{
 "cells": [
  {
   "cell_type": "code",
   "execution_count": null,
   "id": "40dc8125-c3ac-4eee-bbc5-cf46b04df9c4",
   "metadata": {},
   "outputs": [
    {
     "data": {
      "application/vnd.jupyter.widget-view+json": {
       "model_id": "5fdc4a51cae3473db7a8a50687be2bfa",
       "version_major": 2,
       "version_minor": 0
      },
      "text/plain": [
       "Loading checkpoint shards:   0%|          | 0/2 [00:00<?, ?it/s]"
      ]
     },
     "metadata": {},
     "output_type": "display_data"
    },
    {
     "name": "stdout",
     "output_type": "stream",
     "text": [
      "模型已加载，现在可以开始提问了！输入 'exit' 退出。\n"
     ]
    },
    {
     "name": "stdout",
     "output_type": "stream",
     "text": [
      "请输入问题:  实初哥哥的话我都明白\n"
     ]
    },
    {
     "name": "stderr",
     "output_type": "stream",
     "text": [
      "Setting `pad_token_id` to `eos_token_id`:None for open-end generation.\n"
     ]
    },
    {
     "name": "stdout",
     "output_type": "stream",
     "text": [
      "模型回答: 实初哥哥的话我都明白，但是有些话我就不明白了。比如，今天我看到一个穿着花布的布鞋，就想着，这鞋上印着的花，究竟有没有养花的花呢？这鞋上印的花，是活的花吗？或者，这鞋上印的花是死花，像我这样穿的布鞋，是不是也有活花呢？我是不是也该有活花呢？我感到困惑，不知道该如何回答，于是就向哥哥请教了。哥哥说：“花鞋上印的花，就是活花，你穿的布\n"
     ]
    }
   ],
   "source": [
    "from peft import PeftModel\n",
    "from transformers import AutoModelForCausalLM, AutoTokenizer\n",
    "\n",
    "# 指定基础模型的路径\n",
    "model_name = \"/root/autodl-tmp/DeepSeek-R1-Distill-Qwen-7B\"  # 替换为你的模型路径\n",
    "tokenizer = AutoTokenizer.from_pretrained(model_name, use_fast=False, trust_remote_code=True)\n",
    "model = AutoModelForCausalLM.from_pretrained(model_name, device_map={\"\": 0}, trust_remote_code=True)\n",
    "\n",
    "# 指定LoRA适配器的路径\n",
    "lora_path = \"./DeepSeek-R1-Distill-Qwen-7B_LoRA\"  # 替换为你的LoRA适配器保存路径\n",
    "model = PeftModel.from_pretrained(model, lora_path)\n",
    "\n",
    "# 定义生成回答的函数\n",
    "def generate_response(model, tokenizer, prompt, max_length=1280):\n",
    "    inputs = tokenizer(prompt, return_tensors=\"pt\").to(model.device)\n",
    "    outputs = model.generate(**inputs, max_length=max_length, eos_token_id=tokenizer.eos_token_id)\n",
    "    response = tokenizer.decode(outputs[0], skip_special_tokens=True)\n",
    "    return response\n",
    "# 回答模板\n",
    "def answer_template(prompt):\n",
    "    return f\"User: {prompt}\\n\\nAssistant:\"\n",
    "\n",
    "# 交互模式\n",
    "print(\"模型已加载，现在可以开始提问了！输入 'exit' 退出。\")\n",
    "while True:\n",
    "    user_input = input(\"请输入问题: \")\n",
    "    if user_input.lower() == 'exit':\n",
    "        print(\"退出程序。\")\n",
    "        break\n",
    "    response = generate_response(model, tokenizer, answer_template(user_input))\n",
    "    print(\"模型回答:\", response)"
   ]
  },
  {
   "cell_type": "code",
   "execution_count": null,
   "id": "1c7ef615-865c-46d0-b02a-06bfa30c03b3",
   "metadata": {},
   "outputs": [],
   "source": []
  }
 ],
 "metadata": {
  "kernelspec": {
   "display_name": "Python 3 (ipykernel)",
   "language": "python",
   "name": "python3"
  },
  "language_info": {
   "codemirror_mode": {
    "name": "ipython",
    "version": 3
   },
   "file_extension": ".py",
   "mimetype": "text/x-python",
   "name": "python",
   "nbconvert_exporter": "python",
   "pygments_lexer": "ipython3",
   "version": "3.12.3"
  }
 },
 "nbformat": 4,
 "nbformat_minor": 5
}
